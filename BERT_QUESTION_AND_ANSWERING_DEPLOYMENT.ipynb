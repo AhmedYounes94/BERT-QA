{
  "nbformat": 4,
  "nbformat_minor": 0,
  "metadata": {
    "colab": {
      "name": "BERT QUESTION AND ANSWERING DEPLOYMENT.ipynb",
      "provenance": [],
      "private_outputs": true,
      "authorship_tag": "ABX9TyNueHZDR4xslaUweaXuuJcL",
      "include_colab_link": true
    },
    "kernelspec": {
      "name": "python3",
      "display_name": "Python 3"
    }
  },
  "cells": [
    {
      "cell_type": "markdown",
      "metadata": {
        "id": "view-in-github",
        "colab_type": "text"
      },
      "source": [
        "<a href=\"https://colab.research.google.com/github/pavansai26/BERT-QUESTION-AND-ANSWERING-DEPLOYMENT/blob/master/BERT_QUESTION_AND_ANSWERING_DEPLOYMENT.ipynb\" target=\"_parent\"><img src=\"https://colab.research.google.com/assets/colab-badge.svg\" alt=\"Open In Colab\"/></a>"
      ]
    },
    {
      "cell_type": "code",
      "metadata": {
        "id": "0KEEnqTh8kGc",
        "colab_type": "code",
        "colab": {}
      },
      "source": [
        "!git clone https://github.com/kamalkraj/BERT-SQuAD.git\n",
        "!pip install -q -r \"BERT-SQuAD/requirements.txt\"\n",
        "!pip install -q gradio"
      ],
      "execution_count": null,
      "outputs": []
    },
    {
      "cell_type": "code",
      "metadata": {
        "id": "b18UiTtg9KYF",
        "colab_type": "code",
        "colab": {}
      },
      "source": [
        "import gradio as gr\n",
        "import sys\n",
        "sys.path.append(\"BERT-SQuAD\")\n",
        "from bert import QA\n",
        "model = QA('bert-large-uncased-whole-word-masking-finetuned-squad')\n",
        "\n",
        "def qa_func(context, question):\n",
        "    return model.predict(context, question)[\"answer\"]"
      ],
      "execution_count": null,
      "outputs": []
    },
    {
      "cell_type": "code",
      "metadata": {
        "id": "K-PhXlne9TMO",
        "colab_type": "code",
        "colab": {}
      },
      "source": [
        "gr.Interface(qa_func, \n",
        "    [\n",
        "        gr.inputs.Textbox(lines=7, label=\"Context\"), \n",
        "        gr.inputs.Textbox(label=\"Question\"), \n",
        "    ], \n",
        "    gr.outputs.Textbox(label=\"Answer\"),\n",
        "    title=\"Question Answer\",\n",
        "    description=\"BERT-SQuAD is a question answering model that takes 2 inputs: a paragraph that provides context and a question that should be answered. Takes around 6s to run.\").launch()"
      ],
      "execution_count": null,
      "outputs": []
    },
    {
      "cell_type": "code",
      "metadata": {
        "id": "mMmozGGM9yKX",
        "colab_type": "code",
        "colab": {}
      },
      "source": [
        ""
      ],
      "execution_count": null,
      "outputs": []
    }
  ]
}